{
 "cells": [
  {
   "cell_type": "code",
   "execution_count": 1,
   "id": "dcef7b3e",
   "metadata": {},
   "outputs": [],
   "source": [
    "#Create a list of squared integers from a given list of integers."
   ]
  },
  {
   "cell_type": "code",
   "execution_count": 4,
   "id": "4ba8329f",
   "metadata": {},
   "outputs": [
    {
     "name": "stdout",
     "output_type": "stream",
     "text": [
      "List with squared integers from 1 to 10:\n",
      "[1, 4, 9, 16, 25, 36, 49, 64, 81, 100]\n"
     ]
    }
   ],
   "source": [
    "#Method1\n",
    "\n",
    "list = []\n",
    "\n",
    "for i in range(1, 11):\n",
    "    list.append(i * i)\n",
    "\n",
    "print(\"List with squared integers from 1 to 10:\")\n",
    "print(list)"
   ]
  },
  {
   "cell_type": "code",
   "execution_count": 2,
   "id": "fdc92b26",
   "metadata": {},
   "outputs": [
    {
     "name": "stdout",
     "output_type": "stream",
     "text": [
      "Enter a list of integers separated by spaces: 1 2\n",
      "[1, 4]\n"
     ]
    }
   ],
   "source": [
    "#Take the input from the user and Create a list of squared integers from a given integer.\n",
    "\n",
    "input_str = input(\"Enter a list of integers separated by spaces: \")\n",
    "int_list = list(map(int, input_str.split( )))\n",
    "squared_int_list = [num ** 2 for num in int_list]\n",
    "print(squared_int_list)"
   ]
  },
  {
   "cell_type": "code",
   "execution_count": null,
   "id": "90e82935",
   "metadata": {},
   "outputs": [],
   "source": []
  },
  {
   "cell_type": "code",
   "execution_count": null,
   "id": "dcba1738",
   "metadata": {},
   "outputs": [],
   "source": [
    "n = int(input(\"Enter a number\"))\n",
    "\n",
    "l2 =[]\n",
    "for i in range(1, n+1):\n",
    "    s = i*i\n",
    "    l2.append(s)\n",
    "print(l2)"
   ]
  }
 ],
 "metadata": {
  "kernelspec": {
   "display_name": "Python 3 (ipykernel)",
   "language": "python",
   "name": "python3"
  },
  "language_info": {
   "codemirror_mode": {
    "name": "ipython",
    "version": 3
   },
   "file_extension": ".py",
   "mimetype": "text/x-python",
   "name": "python",
   "nbconvert_exporter": "python",
   "pygments_lexer": "ipython3",
   "version": "3.9.7"
  }
 },
 "nbformat": 4,
 "nbformat_minor": 5
}
